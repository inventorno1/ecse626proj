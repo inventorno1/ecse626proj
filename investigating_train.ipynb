{
 "cells": [
  {
   "cell_type": "code",
   "execution_count": 1,
   "metadata": {},
   "outputs": [],
   "source": [
    "import torch as th\n",
    "import numpy as np"
   ]
  },
  {
   "cell_type": "markdown",
   "metadata": {},
   "source": [
    "# Breaking down cDPM code"
   ]
  },
  {
   "cell_type": "markdown",
   "metadata": {},
   "source": [
    "## `sample_some_indices`"
   ]
  },
  {
   "cell_type": "code",
   "execution_count": 63,
   "metadata": {},
   "outputs": [],
   "source": [
    "def sample_some_indices(max_indices=20, T=128):\n",
    "    # print(\"Sampling indices, T is \", T)\n",
    "    s = th.randint(low=1, high=max_indices+1, size=())\n",
    "    max_scale = T / (s-0.999)\n",
    "    scale = np.exp(np.random.rand() * np.log(max_scale))\n",
    "    pos = th.rand(()) * (T - scale*(s-1))\n",
    "    # print(f\"s: {s}, max_sacle: {max_scale}, pos: {pos}\")\n",
    "    indices = [int(pos+i*scale) for i in range(s)]\n",
    "    print(indices)\n",
    "    # do some recursion if we have somehow failed to satisfy the consrtaints\n",
    "    if all(i<T and i>=0 for i in indices):\n",
    "        return indices\n",
    "    else:\n",
    "        print('warning: sampled invalid indices', [int(pos+i*scale) for i in range(s)], 'trying again')\n",
    "        # exit()\n",
    "        return self.sample_some_indices(max_indices, T)"
   ]
  },
  {
   "cell_type": "code",
   "execution_count": 2,
   "metadata": {},
   "outputs": [],
   "source": [
    "max_indices=20\n",
    "T=128"
   ]
  },
  {
   "cell_type": "code",
   "execution_count": 29,
   "metadata": {},
   "outputs": [
    {
     "name": "stdout",
     "output_type": "stream",
     "text": [
      "s: 12, max_sacle: 11.635305404663086, pos: 74.12855529785156\n",
      "scale: 4.387874603271484\n",
      "[74, 78, 82, 87, 91, 96, 100, 104, 109, 113, 118, 122]\n"
     ]
    },
    {
     "name": "stderr",
     "output_type": "stream",
     "text": [
      "/tmp/ipykernel_1643087/2914927780.py:3: DeprecationWarning: __array_wrap__ must accept context and return_scalar arguments (positionally) in the future. (Deprecated NumPy 2.0)\n",
      "  scale = np.exp(np.random.rand() * np.log(max_scale))\n"
     ]
    }
   ],
   "source": [
    "s = th.randint(low=1, high=max_indices+1, size=())\n",
    "max_scale = T / (s-0.999)\n",
    "scale = np.exp(np.random.rand() * np.log(max_scale))\n",
    "pos = th.rand(()) * (T - scale*(s-1))\n",
    "# print(f\"s: {s}, max_sacle: {max_scale}, pos: {pos}\")\n",
    "indices = [int(pos+i*scale) for i in range(s)]\n",
    "print(f\"s: {s}, max_sacle: {max_scale}, pos: {pos}\")\n",
    "print(f\"scale: {scale}\")\n",
    "print(indices)"
   ]
  },
  {
   "cell_type": "markdown",
   "metadata": {},
   "source": [
    "This function randomly samples a number of indices `s`as well as a starting position `pos` and spacing `scale` to return `s` roughly linearly spaced indices between 1 and 128."
   ]
  },
  {
   "cell_type": "markdown",
   "metadata": {},
   "source": [
    "## `sample_all_masks`"
   ]
  },
  {
   "cell_type": "code",
   "execution_count": 40,
   "metadata": {},
   "outputs": [],
   "source": [
    "def sample_all_masks(self, batch1, batch2=None, gather=True, set_masks={'obs': (), 'latent': ()}):\n",
    "    # print(\"Inside sample_all_masks\")\n",
    "    N = self.max_frames\n",
    "    # print(f'batch1 {batch1.shape}, {batch2.shape}, {N}')\n",
    "    B, T, *_ = batch1.shape\n",
    "    masks = {k: th.zeros_like(batch1[:, :, :1, :1, :1]) for k in ['obs', 'latent']}\n",
    "    for obs_row, latent_row in zip(*[masks[k] for k in ['obs', 'latent']]):\n",
    "        latent_row[self.sample_some_indices(max_indices=N, T=T)] = 1.\n",
    "        while True:\n",
    "            mask = obs_row if th.rand(()) < 0.5 else latent_row\n",
    "            indices = th.tensor(self.sample_some_indices(max_indices=N, T=T))\n",
    "            taken = (obs_row[indices] + latent_row[indices]).view(-1)\n",
    "            indices = indices[taken == 0]  # remove indices that are already used in a mask\n",
    "            if len(indices) > N - sum(obs_row) - sum(latent_row):\n",
    "                break\n",
    "            mask[indices] = 1.\n",
    "    if len(set_masks['obs']) > 0:  # set_masks allow us to choose informative masks for logging\n",
    "        for k in masks:\n",
    "            set_values = set_masks[k]\n",
    "            n_set = min(len(set_values), len(masks[k]))\n",
    "            masks[k][:n_set] = set_values[:n_set]\n",
    "    any_mask = (masks['obs'] + masks['latent']).clip(max=1)\n",
    "    if not gather:\n",
    "        return batch1, masks['obs'], masks['latent']\n",
    "    batch, (obs_mask, latent_mask), frame_indices =\\\n",
    "        self.prepare_training_batch(\n",
    "            any_mask, batch1, batch2, (masks['obs'], masks['latent'])\n",
    "        )\n",
    "    return batch, frame_indices, obs_mask, latent_mask"
   ]
  },
  {
   "cell_type": "code",
   "execution_count": 150,
   "metadata": {},
   "outputs": [],
   "source": [
    "N = 20 # max_frames is same as maximum number of slices?"
   ]
  },
  {
   "cell_type": "markdown",
   "metadata": {},
   "source": [
    "* Makes dictionary of obs and latent masks\n",
    "* In latent_row it sets sampled indices from `sample_some_indices` to one, so a one hot encoding of the condition (?) slices\n",
    "* w.p. 0.5 choose mask to be the obs row otherwise the latent\n",
    "* sample more indices\n"
   ]
  },
  {
   "cell_type": "code",
   "execution_count": 151,
   "metadata": {},
   "outputs": [],
   "source": [
    "batch1 = th.zeros((1, 128, 1, 128, 128)) # B, T, C, H, W"
   ]
  },
  {
   "cell_type": "code",
   "execution_count": 152,
   "metadata": {},
   "outputs": [],
   "source": [
    "masks = {k: th.zeros_like(batch1[:, :, :1, :1, :1]) for k in ['obs', 'latent']}"
   ]
  },
  {
   "cell_type": "markdown",
   "metadata": {},
   "source": [
    "This makes obs and latent masks with a batch size equal to the batch size used"
   ]
  },
  {
   "cell_type": "code",
   "execution_count": 153,
   "metadata": {},
   "outputs": [],
   "source": [
    "del obs_row, latent_row"
   ]
  },
  {
   "cell_type": "code",
   "execution_count": 154,
   "metadata": {},
   "outputs": [
    {
     "name": "stdout",
     "output_type": "stream",
     "text": [
      "torch.Size([128, 1, 1, 1])\n"
     ]
    }
   ],
   "source": [
    "for obs_row, latent_row in zip(*[masks[k] for k in ['obs', 'latent']]):\n",
    "    print(latent_row.shape)"
   ]
  },
  {
   "cell_type": "markdown",
   "metadata": {},
   "source": [
    "So this iterates across the batch dimension of the masks to do the code for each part of the mask in that batch"
   ]
  },
  {
   "cell_type": "code",
   "execution_count": 111,
   "metadata": {},
   "outputs": [],
   "source": [
    "latent_row = masks['latent'][0]"
   ]
  },
  {
   "cell_type": "code",
   "execution_count": 112,
   "metadata": {},
   "outputs": [
    {
     "name": "stdout",
     "output_type": "stream",
     "text": [
      "[56, 65, 74, 83, 92, 101, 109, 118, 127]\n"
     ]
    },
    {
     "name": "stderr",
     "output_type": "stream",
     "text": [
      "/tmp/ipykernel_1643087/3152650083.py:5: DeprecationWarning: __array_wrap__ must accept context and return_scalar arguments (positionally) in the future. (Deprecated NumPy 2.0)\n",
      "  scale = np.exp(np.random.rand() * np.log(max_scale))\n"
     ]
    }
   ],
   "source": [
    "latent_row[sample_some_indices(max_indices=N, T=T)] = 1"
   ]
  },
  {
   "cell_type": "code",
   "execution_count": 113,
   "metadata": {},
   "outputs": [
    {
     "name": "stdout",
     "output_type": "stream",
     "text": [
      "[78, 87]\n"
     ]
    },
    {
     "name": "stderr",
     "output_type": "stream",
     "text": [
      "/tmp/ipykernel_1643087/3152650083.py:5: DeprecationWarning: __array_wrap__ must accept context and return_scalar arguments (positionally) in the future. (Deprecated NumPy 2.0)\n",
      "  scale = np.exp(np.random.rand() * np.log(max_scale))\n"
     ]
    }
   ],
   "source": [
    "indices = th.tensor(sample_some_indices())"
   ]
  },
  {
   "cell_type": "code",
   "execution_count": 114,
   "metadata": {},
   "outputs": [
    {
     "data": {
      "text/plain": [
       "torch.Size([2])"
      ]
     },
     "execution_count": 114,
     "metadata": {},
     "output_type": "execute_result"
    }
   ],
   "source": [
    "indices.shape"
   ]
  },
  {
   "cell_type": "code",
   "execution_count": 115,
   "metadata": {},
   "outputs": [],
   "source": [
    "taken = (obs_row[indices] + latent_row[indices]).view(-1)"
   ]
  },
  {
   "cell_type": "code",
   "execution_count": 116,
   "metadata": {},
   "outputs": [
    {
     "data": {
      "text/plain": [
       "tensor([78, 87])"
      ]
     },
     "execution_count": 116,
     "metadata": {},
     "output_type": "execute_result"
    }
   ],
   "source": [
    "indices[taken == 0]"
   ]
  },
  {
   "cell_type": "code",
   "execution_count": 155,
   "metadata": {},
   "outputs": [
    {
     "name": "stdout",
     "output_type": "stream",
     "text": [
      "[58, 61, 63, 66, 69, 71, 74, 77, 79, 82, 85, 87, 90]\n",
      "[80, 82, 84, 85, 87, 89, 90, 92, 94, 96]\n",
      "[71, 72, 74, 75, 77, 78, 80, 81, 83, 84, 86, 87, 89, 90, 92, 93, 95, 96, 97, 99]\n"
     ]
    },
    {
     "name": "stderr",
     "output_type": "stream",
     "text": [
      "/tmp/ipykernel_1643087/3152650083.py:5: DeprecationWarning: __array_wrap__ must accept context and return_scalar arguments (positionally) in the future. (Deprecated NumPy 2.0)\n",
      "  scale = np.exp(np.random.rand() * np.log(max_scale))\n"
     ]
    }
   ],
   "source": [
    "for obs_row, latent_row in zip(*[masks[k] for k in ['obs', 'latent']]):\n",
    "    latent_row[sample_some_indices(max_indices=N, T=T)] = 1.\n",
    "    while True:\n",
    "        mask = obs_row if th.rand(()) < 0.5 else latent_row\n",
    "        indices = th.tensor(sample_some_indices(max_indices=N, T=T))\n",
    "        taken = (obs_row[indices] + latent_row[indices]).view(-1)\n",
    "        indices = indices[taken == 0]  # remove indices that are already used in a mask\n",
    "        if len(indices) > N - sum(obs_row) - sum(latent_row):\n",
    "            break\n",
    "        mask[indices] = 1."
   ]
  },
  {
   "cell_type": "code",
   "execution_count": 156,
   "metadata": {},
   "outputs": [
    {
     "data": {
      "text/plain": [
       "tensor(0.)"
      ]
     },
     "execution_count": 156,
     "metadata": {},
     "output_type": "execute_result"
    }
   ],
   "source": [
    "th.sum(masks['obs'][0])"
   ]
  },
  {
   "cell_type": "code",
   "execution_count": 157,
   "metadata": {},
   "outputs": [
    {
     "data": {
      "text/plain": [
       "tensor(19.)"
      ]
     },
     "execution_count": 157,
     "metadata": {},
     "output_type": "execute_result"
    }
   ],
   "source": [
    "th.sum(masks['latent'][0])"
   ]
  },
  {
   "cell_type": "markdown",
   "metadata": {},
   "source": [
    "Not sure what it's doing exactly, it's used in conjunction with `prepare_training_batch` to get everything ready. Think can just do my own."
   ]
  },
  {
   "cell_type": "code",
   "execution_count": 158,
   "metadata": {},
   "outputs": [],
   "source": [
    "any_mask = (masks['obs'] + masks['latent']).clip(max=1)"
   ]
  },
  {
   "cell_type": "code",
   "execution_count": 148,
   "metadata": {},
   "outputs": [],
   "source": [
    "def prepare_training_batch(mask, batch1, batch2, tensors, max_frames=20, pad_with_random_frames=False):\n",
    "    \"\"\"\n",
    "    Prepare training batch by selecting frames from batch1 according to mask, appending uniformly sampled frames\n",
    "    from batch2, and selecting the corresponding elements from tensors (usually obs_mask and latent_mask).\n",
    "    \"\"\"\n",
    "    B, T, *_ = mask.shape\n",
    "    mask = mask.view(B, T)  # remove unit C, H, W dims\n",
    "    effective_T = max_frames if pad_with_random_frames else mask.sum(dim=1).max().int()\n",
    "    indices = th.zeros_like(mask[:, :effective_T], dtype=th.int64)\n",
    "    new_batch = th.zeros_like(batch1[:, :effective_T])\n",
    "    new_tensors = [th.zeros_like(t[:, :effective_T]) for t in tensors]\n",
    "    for b in range(B):\n",
    "        instance_T = mask[b].sum().int()\n",
    "        indices[b, :instance_T] = mask[b].nonzero().flatten()\n",
    "        indices[b, instance_T:] = th.randint_like(indices[b, instance_T:], high=T) if pad_with_random_frames else 0\n",
    "        new_batch[b, :instance_T] = batch1[b][mask[b]==1]\n",
    "        new_batch[b, instance_T:] = (batch1 if batch2 is None else batch2)[b][indices[b, instance_T:]]\n",
    "        for new_t, t in zip(new_tensors, tensors):\n",
    "            new_t[b, :instance_T] = t[b][mask[b]==1]\n",
    "            new_t[b, instance_T:] = t[b][indices[b, instance_T:]]\n",
    "    return new_batch, new_tensors, indices\n"
   ]
  },
  {
   "cell_type": "code",
   "execution_count": 169,
   "metadata": {},
   "outputs": [],
   "source": [
    "batch, (obs_mask, latent_mask), frame_indices = prepare_training_batch(any_mask, batch1, None, (masks['obs'], masks['latent']))"
   ]
  },
  {
   "cell_type": "code",
   "execution_count": 170,
   "metadata": {},
   "outputs": [
    {
     "data": {
      "text/plain": [
       "torch.Size([1, 19, 1, 128, 128])"
      ]
     },
     "execution_count": 170,
     "metadata": {},
     "output_type": "execute_result"
    }
   ],
   "source": [
    "batch.shape"
   ]
  },
  {
   "cell_type": "code",
   "execution_count": 171,
   "metadata": {},
   "outputs": [
    {
     "data": {
      "text/plain": [
       "torch.Size([1, 19, 1, 1, 1])"
      ]
     },
     "execution_count": 171,
     "metadata": {},
     "output_type": "execute_result"
    }
   ],
   "source": [
    "obs_mask.shape"
   ]
  },
  {
   "cell_type": "code",
   "execution_count": 172,
   "metadata": {},
   "outputs": [
    {
     "data": {
      "text/plain": [
       "torch.Size([1, 19, 1, 1, 1])"
      ]
     },
     "execution_count": 172,
     "metadata": {},
     "output_type": "execute_result"
    }
   ],
   "source": [
    "latent_mask.shape"
   ]
  },
  {
   "cell_type": "code",
   "execution_count": 173,
   "metadata": {},
   "outputs": [
    {
     "data": {
      "text/plain": [
       "tensor([[58, 61, 63, 66, 69, 71, 74, 77, 79, 80, 82, 84, 85, 87, 89, 90, 92, 94,\n",
       "         96]])"
      ]
     },
     "execution_count": 173,
     "metadata": {},
     "output_type": "execute_result"
    }
   ],
   "source": [
    "frame_indices"
   ]
  },
  {
   "cell_type": "markdown",
   "metadata": {},
   "source": [
    "## My own implementation"
   ]
  },
  {
   "cell_type": "code",
   "execution_count": 279,
   "metadata": {},
   "outputs": [],
   "source": [
    "import random\n",
    "import matplotlib.pyplot as plt"
   ]
  },
  {
   "cell_type": "code",
   "execution_count": 329,
   "metadata": {},
   "outputs": [],
   "source": [
    "def sample_indices(max_slices=20, num_slices=128):\n",
    "\n",
    "    total_indices = random.randint(1, max_slices)\n",
    "\n",
    "    indices = random.sample(range(1,num_slices), total_indices)\n",
    "\n",
    "    target_size = random.randint(1, len(indices))\n",
    "    target = random.sample(indices, target_size)\n",
    "    condition = [index for index in indices if index not in target]\n",
    "\n",
    "    return condition, target"
   ]
  },
  {
   "cell_type": "code",
   "execution_count": 342,
   "metadata": {},
   "outputs": [],
   "source": [
    "test_list = [sample_indices()[1] for i in range(100000)]"
   ]
  },
  {
   "cell_type": "code",
   "execution_count": 343,
   "metadata": {},
   "outputs": [],
   "source": [
    "i = 0\n",
    "singletons = []\n",
    "for target in test_list:\n",
    "    if len(target) == 1:\n",
    "        i += 1\n",
    "        singletons += target"
   ]
  },
  {
   "cell_type": "code",
   "execution_count": 344,
   "metadata": {},
   "outputs": [
    {
     "data": {
      "text/plain": [
       "0.17942"
      ]
     },
     "execution_count": 344,
     "metadata": {},
     "output_type": "execute_result"
    }
   ],
   "source": [
    "i/100000"
   ]
  },
  {
   "cell_type": "code",
   "execution_count": 346,
   "metadata": {},
   "outputs": [
    {
     "data": {
      "text/plain": [
       "(array([121., 125., 132., 125., 152., 127., 128., 131., 145., 129., 149.,\n",
       "        122., 144., 140., 147., 146., 143., 129., 128., 158., 130., 144.,\n",
       "        123., 125., 127., 147., 146., 131., 140., 140., 148., 178., 151.,\n",
       "        147., 156., 145., 139., 137., 146., 139., 136., 148., 141., 128.,\n",
       "        134., 135., 154., 120., 139., 138., 141., 133., 143., 168., 136.,\n",
       "        153., 155., 157., 143., 138., 139., 154., 137., 141., 146., 153.,\n",
       "        122., 120., 156., 138., 139., 140., 130., 143., 137., 138., 139.,\n",
       "        157., 128., 145., 135., 130., 150., 150., 154., 150., 163., 142.,\n",
       "        149., 143., 133., 134., 129., 150., 137., 147., 124., 136., 130.,\n",
       "        143., 180., 128., 149., 141., 145., 152., 121., 141., 161., 135.,\n",
       "        166., 132., 139., 130., 154., 141., 148., 133., 128., 156., 131.,\n",
       "        152., 151., 146., 135., 161., 155.]),\n",
       " array([  1.        ,   1.99212598,   2.98425197,   3.97637795,\n",
       "          4.96850394,   5.96062992,   6.95275591,   7.94488189,\n",
       "          8.93700787,   9.92913386,  10.92125984,  11.91338583,\n",
       "         12.90551181,  13.8976378 ,  14.88976378,  15.88188976,\n",
       "         16.87401575,  17.86614173,  18.85826772,  19.8503937 ,\n",
       "         20.84251969,  21.83464567,  22.82677165,  23.81889764,\n",
       "         24.81102362,  25.80314961,  26.79527559,  27.78740157,\n",
       "         28.77952756,  29.77165354,  30.76377953,  31.75590551,\n",
       "         32.7480315 ,  33.74015748,  34.73228346,  35.72440945,\n",
       "         36.71653543,  37.70866142,  38.7007874 ,  39.69291339,\n",
       "         40.68503937,  41.67716535,  42.66929134,  43.66141732,\n",
       "         44.65354331,  45.64566929,  46.63779528,  47.62992126,\n",
       "         48.62204724,  49.61417323,  50.60629921,  51.5984252 ,\n",
       "         52.59055118,  53.58267717,  54.57480315,  55.56692913,\n",
       "         56.55905512,  57.5511811 ,  58.54330709,  59.53543307,\n",
       "         60.52755906,  61.51968504,  62.51181102,  63.50393701,\n",
       "         64.49606299,  65.48818898,  66.48031496,  67.47244094,\n",
       "         68.46456693,  69.45669291,  70.4488189 ,  71.44094488,\n",
       "         72.43307087,  73.42519685,  74.41732283,  75.40944882,\n",
       "         76.4015748 ,  77.39370079,  78.38582677,  79.37795276,\n",
       "         80.37007874,  81.36220472,  82.35433071,  83.34645669,\n",
       "         84.33858268,  85.33070866,  86.32283465,  87.31496063,\n",
       "         88.30708661,  89.2992126 ,  90.29133858,  91.28346457,\n",
       "         92.27559055,  93.26771654,  94.25984252,  95.2519685 ,\n",
       "         96.24409449,  97.23622047,  98.22834646,  99.22047244,\n",
       "        100.21259843, 101.20472441, 102.19685039, 103.18897638,\n",
       "        104.18110236, 105.17322835, 106.16535433, 107.15748031,\n",
       "        108.1496063 , 109.14173228, 110.13385827, 111.12598425,\n",
       "        112.11811024, 113.11023622, 114.1023622 , 115.09448819,\n",
       "        116.08661417, 117.07874016, 118.07086614, 119.06299213,\n",
       "        120.05511811, 121.04724409, 122.03937008, 123.03149606,\n",
       "        124.02362205, 125.01574803, 126.00787402, 127.        ]),\n",
       " <BarContainer object of 127 artists>)"
      ]
     },
     "execution_count": 346,
     "metadata": {},
     "output_type": "execute_result"
    },
    {
     "data": {
      "image/png": "[encoded data removed]",
      "text/plain": [
       "<Figure size 640x480 with 1 Axes>"
      ]
     },
     "metadata": {},
     "output_type": "display_data"
    }
   ],
   "source": [
    "plt.hist(singletons, bins=127)"
   ]
  },
  {
   "cell_type": "code",
   "execution_count": 349,
   "metadata": {},
   "outputs": [
    {
     "data": {
      "text/plain": [
       "155"
      ]
     },
     "execution_count": 349,
     "metadata": {},
     "output_type": "execute_result"
    }
   ],
   "source": [
    "singletons.count(127)"
   ]
  },
  {
   "cell_type": "code",
   "execution_count": 318,
   "metadata": {},
   "outputs": [],
   "source": [
    "condition, target = sample_indices()"
   ]
  },
  {
   "cell_type": "code",
   "execution_count": 326,
   "metadata": {},
   "outputs": [
    {
     "data": {
      "text/plain": [
       "[6, 27, 42, 58, 74, 122, 125]"
      ]
     },
     "execution_count": 326,
     "metadata": {},
     "output_type": "execute_result"
    }
   ],
   "source": [
    "sorted(condition)"
   ]
  },
  {
   "cell_type": "code",
   "execution_count": 319,
   "metadata": {},
   "outputs": [],
   "source": [
    "encoding = np.zeros(128)"
   ]
  },
  {
   "cell_type": "code",
   "execution_count": 323,
   "metadata": {},
   "outputs": [],
   "source": [
    "encoding[condition] = 1"
   ]
  },
  {
   "cell_type": "code",
   "execution_count": 324,
   "metadata": {},
   "outputs": [],
   "source": [
    "encoding[target] = 2"
   ]
  },
  {
   "cell_type": "code",
   "execution_count": 351,
   "metadata": {},
   "outputs": [
    {
     "data": {
      "text/plain": [
       "torch.Size([1, 128, 1, 128, 128])"
      ]
     },
     "execution_count": 351,
     "metadata": {},
     "output_type": "execute_result"
    }
   ],
   "source": [
    "batch1.shape"
   ]
  },
  {
   "cell_type": "markdown",
   "metadata": {},
   "source": [
    "## Testing batch manipulation"
   ]
  },
  {
   "cell_type": "code",
   "execution_count": 352,
   "metadata": {},
   "outputs": [],
   "source": [
    "test_batch = th.zeros(3,128,128,128)"
   ]
  },
  {
   "cell_type": "code",
   "execution_count": 359,
   "metadata": {},
   "outputs": [
    {
     "data": {
      "text/plain": [
       "[6, 122, 58, 42, 27, 125, 74]"
      ]
     },
     "execution_count": 359,
     "metadata": {},
     "output_type": "execute_result"
    }
   ],
   "source": [
    "condition"
   ]
  },
  {
   "cell_type": "code",
   "execution_count": 362,
   "metadata": {},
   "outputs": [
    {
     "data": {
      "text/plain": [
       "torch.Size([3, 7, 128, 128])"
      ]
     },
     "execution_count": 362,
     "metadata": {},
     "output_type": "execute_result"
    }
   ],
   "source": [
    "test_batch[:, condition].shape"
   ]
  },
  {
   "cell_type": "code",
   "execution_count": 365,
   "metadata": {},
   "outputs": [
    {
     "data": {
      "text/plain": [
       "[100, 116]"
      ]
     },
     "execution_count": 365,
     "metadata": {},
     "output_type": "execute_result"
    }
   ],
   "source": [
    "target"
   ]
  },
  {
   "cell_type": "code",
   "execution_count": 364,
   "metadata": {},
   "outputs": [
    {
     "data": {
      "text/plain": [
       "torch.Size([3, 2, 128, 128])"
      ]
     },
     "execution_count": 364,
     "metadata": {},
     "output_type": "execute_result"
    }
   ],
   "source": [
    "test_batch[:, target].shape"
   ]
  }
 ],
 "metadata": {
  "kernelspec": {
   "display_name": "venv",
   "language": "python",
   "name": "python3"
  },
  "language_info": {
   "codemirror_mode": {
    "name": "ipython",
    "version": 3
   },
   "file_extension": ".py",
   "mimetype": "text/x-python",
   "name": "python",
   "nbconvert_exporter": "python",
   "pygments_lexer": "ipython3",
   "version": "3.10.14"
  }
 },
 "nbformat": 4,
 "nbformat_minor": 2
}
